{
  "nbformat": 4,
  "nbformat_minor": 0,
  "metadata": {
    "colab": {
      "name": "PX test - sketchreal_v3.2.ipynb",
      "version": "0.3.2",
      "provenance": [],
      "collapsed_sections": [
        "JXq0Jy_Kxsto",
        "BVqmdLYAxsuY",
        "xb8-1emXxsut",
        "7jAdMmodxsvg",
        "tGxxANpxxswb",
        "hbbb9d70xsxO"
      ],
      "include_colab_link": true
    },
    "language_info": {
      "codemirror_mode": {
        "name": "ipython",
        "version": 3
      },
      "file_extension": ".py",
      "mimetype": "text/x-python",
      "name": "python",
      "nbconvert_exporter": "python",
      "pygments_lexer": "ipython3",
      "version": "3.6.8"
    },
    "kernelspec": {
      "name": "python3",
      "display_name": "Python 3"
    }
  },
  "cells": [
    {
      "cell_type": "markdown",
      "metadata": {
        "id": "view-in-github",
        "colab_type": "text"
      },
      "source": [
        "<a href=\"https://colab.research.google.com/github/Pingxia/ConvolutionalSketchInversion/blob/master/sketchreal_v3_2.ipynb\" target=\"_parent\"><img src=\"https://colab.research.google.com/assets/colab-badge.svg\" alt=\"Open In Colab\"/></a>"
      ]
    },
    {
      "cell_type": "markdown",
      "metadata": {
        "id": "HHIFph0Ixsp2",
        "colab_type": "text"
      },
      "source": [
        "Adapted from Sketchback: Convolutional Sketch Inversion using Keras\n",
        "https://github.com/BKHMSI/Sketchback/blob/master/sketchback.ipynb\n",
        "\n",
        "GAN is implemented on top of Sketchback."
      ]
    },
    {
      "cell_type": "code",
      "metadata": {
        "id": "Vchm-krVxsp4",
        "colab_type": "code",
        "outputId": "4a2d2de6-2917-401f-84dc-9d22e1fc9eb0",
        "colab": {
          "base_uri": "https://localhost:8080/",
          "height": 34
        }
      },
      "source": [
        "from __future__ import print_function\n",
        "import numpy as np\n",
        "import pandas as pd \n",
        "import cv2 as cv\n",
        "import time\n",
        "import os\n",
        "import h5py\n",
        "import matplotlib.pyplot as plt\n",
        "import scipy.misc\n",
        "import scipy.ndimage\n",
        "\n",
        "from tqdm import tqdm\n",
        "from copy import deepcopy\n",
        "import tensorflow as tf\n",
        "from sklearn.preprocessing import StandardScaler\n",
        "from keras.models import Sequential, Model, load_model\n",
        "from keras.layers import Input, Dense, Conv2D, MaxPooling2D, UpSampling2D, Convolution2D, Deconvolution2D, add\n",
        "from keras.layers.core import Activation, Dropout, Flatten, Lambda\n",
        "from keras.layers.normalization import BatchNormalization\n",
        "from keras.optimizers import SGD, Adam, Nadam\n",
        "from keras.utils import np_utils, plot_model\n",
        "from keras.callbacks import TensorBoard\n",
        "from keras import objectives, layers\n",
        "from keras.applications import vgg16\n",
        "from keras.applications.vgg16 import preprocess_input\n",
        "from keras import backend as K\n",
        "from keras.utils.generic_utils import get_custom_objects\n",
        "from skimage.transform import resize\n",
        "\n",
        "np.random.seed(5242)  # for reproducibility"
      ],
      "execution_count": 0,
      "outputs": [
        {
          "output_type": "stream",
          "text": [
            "Using TensorFlow backend.\n"
          ],
          "name": "stderr"
        }
      ]
    },
    {
      "cell_type": "code",
      "metadata": {
        "id": "BAdIlVuCxsqH",
        "colab_type": "code",
        "colab": {}
      },
      "source": [
        "m = 504\n",
        "n = 400\n",
        "sketch_dim = (m,n)\n",
        "img_dim = (m,n,3)\n",
        "num_images = 150\n",
        "num_epochs = 25\n",
        "batch_size = 10\n",
        "file_names = []\n",
        "\n",
        "# CUHK_SKETCH_PATH = 'dataset_v3/CUHK_sketch'\n",
        "# CUHK_IMAGE_PATH = 'dataset_v3/CUHK_photo'\n",
        "# FERET_SKETCH_PATH = 'dataset_v3/FERET_sketch'\n",
        "# FERET_IMAGE_PATH = 'dataset_v3/FERET_photo'\n",
        "CUHK_SKETCH_PATH = '/content/drive/My Drive/CS5242/CUHK/CUHK_train_sketch'\n",
        "CUHK_IMAGE_PATH = '/content/drive/My Drive/CS5242/CUHK/CUHK_train_photo'\n",
        "\n",
        "# CUHK_SKETCH_PATH = 'dataset/CUHK_train_sketch_v2'\n",
        "# CUHK_IMAGE_PATH = 'dataset/CUHK_train_photo_v2'"
      ],
      "execution_count": 0,
      "outputs": []
    },
    {
      "cell_type": "code",
      "metadata": {
        "id": "ZoXY4d3PTeOn",
        "colab_type": "code",
        "outputId": "e49493d3-c61a-4ec4-b738-ffc226ba0b75",
        "colab": {
          "base_uri": "https://localhost:8080/",
          "height": 34
        }
      },
      "source": [
        "from google.colab import drive\n",
        "drive.mount('/content/drive')"
      ],
      "execution_count": 0,
      "outputs": [
        {
          "output_type": "stream",
          "text": [
            "Drive already mounted at /content/drive; to attempt to forcibly remount, call drive.mount(\"/content/drive\", force_remount=True).\n"
          ],
          "name": "stdout"
        }
      ]
    },
    {
      "cell_type": "code",
      "metadata": {
        "id": "Dkt4DHQxxsqM",
        "colab_type": "code",
        "colab": {}
      },
      "source": [
        "def load_file_names(path):\n",
        "    list_of_file_names = os.listdir(path)\n",
        "    list_of_file_names.sort() #sorts in place\n",
        "    return list_of_file_names"
      ],
      "execution_count": 0,
      "outputs": []
    },
    {
      "cell_type": "code",
      "metadata": {
        "id": "sO6jJZaQxsqZ",
        "colab_type": "code",
        "colab": {}
      },
      "source": [
        "def sub_plot(x,y,z):\n",
        "    fig = plt.figure()\n",
        "    a = fig.add_subplot(1,3,1)\n",
        "    imgplot = plt.imshow(x, cmap='gray')\n",
        "    a.set_title('Sketch')\n",
        "    plt.axis(\"off\")\n",
        "    a = fig.add_subplot(1,3,2)\n",
        "    imgplot = plt.imshow(z)\n",
        "    a.set_title('Prediction')\n",
        "    plt.axis(\"off\")\n",
        "    a = fig.add_subplot(1,3,3)\n",
        "    imgplot = plt.imshow(y)\n",
        "    a.set_title('Ground Truth')\n",
        "    plt.axis(\"off\")\n",
        "    plt.show()"
      ],
      "execution_count": 0,
      "outputs": []
    },
    {
      "cell_type": "code",
      "metadata": {
        "id": "w-ehHmCDxsqj",
        "colab_type": "code",
        "colab": {}
      },
      "source": [
        "def imshow(x, gray=False):\n",
        "    plt.imshow(x, cmap='gray' if gray else None)\n",
        "    plt.show()"
      ],
      "execution_count": 0,
      "outputs": []
    },
    {
      "cell_type": "code",
      "metadata": {
        "id": "nlEN4VY8xsqp",
        "colab_type": "code",
        "colab": {}
      },
      "source": [
        "def get_batch(idx, X = True, Y = True, W = True, dataset=['cuhk']):\n",
        "    X_file_names = []\n",
        "    Y_file_names = []\n",
        "\n",
        "    X_train = np.zeros((batch_size, m, n), dtype='float32')\n",
        "    Y_train = np.zeros((batch_size, m, n, 3), dtype='float32')\n",
        "    F_train = None\n",
        "    \n",
        "    for data in dataset:\n",
        "        if data == 'cuhk':\n",
        "            x_path = CUHK_SKETCH_PATH\n",
        "            y_path = CUHK_IMAGE_PATH\n",
        "        else: # data == 'feret':\n",
        "            x_path = FERET_SKETCH_PATH\n",
        "            y_path = FERET_IMAGE_PATH\n",
        "        if X:\n",
        "            file_names = [x_path + \"/\" + s for s in load_file_names(x_path)]\n",
        "            X_file_names.extend(file_names)\n",
        "        if Y:\n",
        "            file_names = [y_path + \"/\" + s for s in load_file_names(y_path)]\n",
        "            Y_file_names.extend(file_names)\n",
        "            \n",
        "#         print(\"at\", data, \"current total X:\", len(X_file_names), \"current total Y:\", len(Y_file_names))\n",
        "\n",
        "#     print(\"X_file_names:\", X_file_names)\n",
        "#     print(\"Y_file_names:\", Y_file_names)\n",
        "\n",
        "    ###############\n",
        "    if len(X_file_names) != 0:\n",
        "        # Load Sketches\n",
        "        for i in range(batch_size):\n",
        "            if ((i+batch_size*idx) > (len(file_names)-1)):\n",
        "                break\n",
        "            file = X_file_names[i+batch_size*idx]\n",
        "            img = cv.imread(file,0)\n",
        "            img = resize(img, sketch_dim)\n",
        "            img = img.astype('float32')\n",
        "            X_train[i] = img #/ 255.\n",
        "\n",
        "    if len(Y_file_names) != 0:\n",
        "        # Load Ground-truth Images\n",
        "        for i in range(batch_size):\n",
        "            if ((i+batch_size*idx) > (len(file_names)-1)):\n",
        "                break\n",
        "            file = Y_file_names[i+batch_size*idx]\n",
        "            img = cv.imread(file)\n",
        "            img = cv.cvtColor(img, cv.COLOR_BGR2RGB)\n",
        "            img = resize(img, img_dim)\n",
        "            img = img.astype('float32')\n",
        "            # cannot normalise somehow...\n",
        "            Y_train[i] = img # / 255. \n",
        "    if W:\n",
        "        F_train = get_features(Y_train)\n",
        "\n",
        "    X_train = np.reshape(X_train, (batch_size, m, n, 1))\n",
        "    ###############\n",
        "    return X_train, Y_train, F_train"
      ],
      "execution_count": 0,
      "outputs": []
    },
    {
      "cell_type": "code",
      "metadata": {
        "id": "r74c6-5nxsqy",
        "colab_type": "code",
        "colab": {}
      },
      "source": [
        "def get_features(Y):\n",
        "    base_model = vgg16.VGG16(weights='imagenet', include_top=False)\n",
        "    vgg = Model(inputs=base_model.input, outputs=base_model.get_layer('block2_conv2').output)\n",
        "    Z = deepcopy(Y)\n",
        "    Z = preprocess_vgg(Z)\n",
        "    features = vgg.predict(Z, batch_size = 5, verbose = 0)\n",
        "    return features"
      ],
      "execution_count": 0,
      "outputs": []
    },
    {
      "cell_type": "code",
      "metadata": {
        "id": "nBU2lFIExsq4",
        "colab_type": "code",
        "colab": {}
      },
      "source": [
        "def preprocess_vgg(x, data_format=None):\n",
        "    if data_format is None:\n",
        "        data_format = K.image_data_format()\n",
        "    assert data_format in {'channels_last', 'channels_first'}\n",
        "    x = 255. * x\n",
        "    if data_format == 'channels_first':\n",
        "        # 'RGB'->'BGR'\n",
        "        x = x[:, ::-1, :, :]\n",
        "        # Zero-center by mean pixel\n",
        "        x[:, 0, :, :] = x[:, 0, :, :] - 103.939\n",
        "        x[:, 1, :, :] = x[:, 1, :, :] - 116.779\n",
        "        x[:, 2, :, :] = x[:, 2, :, :] - 123.68\n",
        "    else:\n",
        "        # 'RGB'->'BGR'\n",
        "        x = x[:, :, :, ::-1]\n",
        "        # Zero-center by mean pixel\n",
        "        x[:, :, :, 0] = x[:, :, :, 0] - 103.939\n",
        "        x[:, :, :, 1] = x[:, :, :, 1] - 116.779\n",
        "        x[:, :, :, 2] = x[:, :, :, 2] - 123.68\n",
        "    return x"
      ],
      "execution_count": 0,
      "outputs": []
    },
    {
      "cell_type": "code",
      "metadata": {
        "id": "TevMe-_ixsrJ",
        "colab_type": "code",
        "colab": {}
      },
      "source": [
        "def feature_loss(y_true, y_pred):\n",
        "    return K.sqrt(K.mean(K.square(y_true - y_pred)))\n",
        "\n",
        "def pixel_loss(y_true, y_pred):\n",
        "    return K.sqrt(K.mean(K.square(y_true - y_pred))) + 0.00001*total_variation_loss(y_pred)\n",
        "\n",
        "def adv_loss(y_true, y_pred):\n",
        "    return K.mean(K.binary_crossentropy(y_pred, y_true), axis=-1)\n",
        "\n",
        "def total_variation_loss(y_pred):\n",
        "    if K.image_data_format() == 'channels_first':\n",
        "        a = K.square(y_pred[:, :, :m - 1, :n - 1] - y_pred[:, :, 1:, :n - 1])\n",
        "        b = K.square(y_pred[:, :, :m - 1, :n - 1] - y_pred[:, :, :m - 1, 1:])\n",
        "    else:\n",
        "        a = K.square(y_pred[:, :m - 1, :n - 1, :] - y_pred[:, 1:, :n - 1, :])\n",
        "        b = K.square(y_pred[:, :m - 1, :n - 1, :] - y_pred[:, :m - 1, 1:, :])\n",
        "    return K.sum(K.pow(a + b, 1.25))"
      ],
      "execution_count": 0,
      "outputs": []
    },
    {
      "cell_type": "code",
      "metadata": {
        "id": "wPS3wi7QxsrR",
        "colab_type": "code",
        "colab": {}
      },
      "source": [
        "def preprocess_VGG(x, dim_ordering='default'):\n",
        "    if dim_ordering == 'default':\n",
        "        dim_ordering = K.image_dim_ordering()\n",
        "    assert dim_ordering in {'tf', 'th'}\n",
        "    # x has pixels intensities between 0 and 1\n",
        "    x = 255. * x\n",
        "    norm_vec = K.variable([103.939, 116.779, 123.68])\n",
        "    if dim_ordering == 'th':\n",
        "        norm_vec = K.reshape(norm_vec, (1,3,1,1))\n",
        "        x = x - norm_vec\n",
        "        # 'RGB'->'BGR'\n",
        "        x = x[:, ::-1, :, :]\n",
        "    else:\n",
        "        norm_vec = K.reshape(norm_vec, (1,1,1,3))\n",
        "        x = x - norm_vec\n",
        "        # 'RGB'->'BGR'\n",
        "        x = x[:, :, :, ::-1]\n",
        "    return x"
      ],
      "execution_count": 0,
      "outputs": []
    },
    {
      "cell_type": "code",
      "metadata": {
        "id": "Dh28iAynxsrY",
        "colab_type": "code",
        "colab": {}
      },
      "source": [
        "def generator_model(input_img):\n",
        "\n",
        "    # Encoder\n",
        "    x = Conv2D(32, (3, 3), activation='relu', padding='same')(input_img)\n",
        "    x = Conv2D(32, (2, 2), activation='relu', padding='same')(x)\n",
        "    x = MaxPooling2D((2, 2), padding='same')(x)\n",
        "\n",
        "    x = Conv2D(64, (3, 3), activation='relu', padding='same', name='block2_conv1')(x)\n",
        "    x = Conv2D(64, (2, 2), activation='relu', padding='same')(x)\n",
        "    x = MaxPooling2D((2, 2), padding='same')(x)\n",
        "\n",
        "    x = Conv2D(128, (3, 3), activation='relu', padding='same', name='block3_conv1')(x)\n",
        "    x = Conv2D(128, (3, 3), activation='relu', padding='same')(x)\n",
        "    x = MaxPooling2D((2, 2), padding='same')(x)\n",
        "\n",
        "    x = Conv2D(256, (3, 3), activation='relu', padding='same', name='block4_conv1')(x)\n",
        "    res = Conv2D(256, (3, 3), activation='relu', padding='same')(x)\n",
        "    x = layers.add([x, res])\n",
        "    res = Conv2D(256, (3, 3), activation='relu', padding='same')(x)\n",
        "    encoded = layers.add([x, res])\n",
        "\n",
        "    # Decoder\n",
        "    res = Conv2D(256, (3, 3), activation='relu', padding='same', name='block5_conv1')(encoded)\n",
        "    x = layers.add([encoded, res])\n",
        "    res = Conv2D(256, (3, 3), activation='relu', padding='same')(x)\n",
        "    x = layers.add([x, res])\n",
        "    res = Conv2D(256, (3, 3), activation='relu', padding='same')(x)\n",
        "    x = layers.add([x, res])\n",
        "\n",
        "    x = Conv2D(128, (2, 2), activation='relu', padding='same', name='block6_conv1')(x)\n",
        "    x = UpSampling2D((2, 2))(x)\n",
        "\n",
        "    x = Conv2D(128, (3, 3), activation='relu', padding='same', name='block7_conv1')(x)\n",
        "    res = Conv2D(128, (3, 3), activation='relu', padding='same')(x)\n",
        "    x = layers.add([x, res])\n",
        "    res = Conv2D(128, (3, 3), activation='relu', padding='same')(x)\n",
        "    x = layers.add([x, res])\n",
        "\n",
        "    x = Conv2D(64, (2, 2), activation='relu', padding='same', name='block8_conv1')(x)\n",
        "    x = UpSampling2D((2, 2))(x)\n",
        "\n",
        "    x = Conv2D(64, (3, 3), activation='relu', padding='same', name='block9_conv1')(x)\n",
        "    res = Conv2D(64, (3, 3), activation='relu', padding='same')(x)\n",
        "    x = layers.add([x, res])\n",
        "    res = Conv2D(64, (3, 3), activation='relu', padding='same')(x)\n",
        "    x = layers.add([x, res])\n",
        "\n",
        "    x = Conv2D(32, (2, 2), activation='relu', padding='same', name='block10_conv1')(x)\n",
        "    x = UpSampling2D((2, 2))(x)\n",
        "\n",
        "    x = Conv2D(32, (3, 3), activation='relu', padding='same', name='block11_conv1')(x)\n",
        "    res = Conv2D(32, (3, 3), activation='relu', padding='same')(x)\n",
        "    x = layers.add([x, res])\n",
        "    decoded = Conv2D(3, (3, 3), activation='sigmoid', padding='same')(x)\n",
        "    \n",
        "    print(\"decoded:\",decoded)\n",
        "    return decoded"
      ],
      "execution_count": 0,
      "outputs": []
    },
    {
      "cell_type": "code",
      "metadata": {
        "id": "_hq-Cgmxxsre",
        "colab_type": "code",
        "colab": {}
      },
      "source": [
        "def generator_model_2(input_img):\n",
        "    x = Convolution2D(32, (9, 9), padding=\"same\", strides=(1,1))(input_img)\n",
        "    x = BatchNormalization(axis=1)(x)\n",
        "    x = Activation(\"relu\")(x)\n",
        "    \n",
        "    x = Convolution2D(64, (3, 3), padding=\"same\", strides=(2,2))(x)\n",
        "    x = BatchNormalization(axis=1)(x)\n",
        "    x = Activation(\"relu\")(x)\n",
        "    \n",
        "    x = Convolution2D(128, (3, 3), padding=\"same\", strides=(2,2))(x)\n",
        "    x = BatchNormalization(axis=1)(x)\n",
        "    x = Activation(\"relu\")(x)\n",
        "    \n",
        "    # then 5 res blocks\n",
        "    r = Convolution2D(128, (3, 3), padding=\"same\")(x)\n",
        "    r = BatchNormalization(axis=1)(r)\n",
        "    r = Activation(\"relu\")(r)\n",
        "    r = Convolution2D(128, (3, 3), padding=\"same\")(r)\n",
        "    r = BatchNormalization(axis=1)(r)\n",
        "    r = Activation(\"relu\")(r)\n",
        "    # Merge residual and identity\n",
        "    x = add([x, r])\n",
        "    \n",
        "    r = Convolution2D(128, (3, 3), padding=\"same\")(x)\n",
        "    r = BatchNormalization(axis=1)(r)\n",
        "    r = Activation(\"relu\")(r)\n",
        "    r = Convolution2D(128, (3, 3), padding=\"same\")(r)\n",
        "    r = BatchNormalization(axis=1)(r)\n",
        "    r = Activation(\"relu\")(r)\n",
        "    # Merge residual and identity\n",
        "    x = add([x, r])\n",
        "    \n",
        "    r = Convolution2D(128, (3, 3), padding=\"same\")(x)\n",
        "    r = BatchNormalization(axis=1)(r)\n",
        "    r = Activation(\"relu\")(r)\n",
        "    r = Convolution2D(128, (3, 3), padding=\"same\")(r)\n",
        "    r = BatchNormalization(axis=1)(r)\n",
        "    r = Activation(\"relu\")(r)\n",
        "    # Merge residual and identity\n",
        "    x = add([x, r])\n",
        "              \n",
        "    r = Convolution2D(128, (3, 3), padding=\"same\")(x)\n",
        "    r = BatchNormalization(axis=1)(r)\n",
        "    r = Activation(\"relu\")(r)\n",
        "    r = Convolution2D(128, (3, 3), padding=\"same\")(r)\n",
        "    r = BatchNormalization(axis=1)(r)\n",
        "    r = Activation(\"relu\")(r)\n",
        "    # Merge residual and identity\n",
        "    x = add([x, r])\n",
        "    \n",
        "    r = Convolution2D(128, (3, 3), padding=\"same\")(x)\n",
        "    r = BatchNormalization(axis=1)(r)\n",
        "    r = Activation(\"relu\")(r)\n",
        "    r = Convolution2D(128, (3, 3), padding=\"same\")(r)\n",
        "    r = BatchNormalization(axis=1)(r)\n",
        "    r = Activation(\"relu\")(r)\n",
        "    # Merge residual and identity\n",
        "    x = add([x, r])\n",
        "    \n",
        "    # the 2 deconv blocks\n",
        "    x = Deconvolution2D(64, (3, 3), output_shape=(batch_size, m/2, n/2, 64), padding='same', strides=(2,2))(x)\n",
        "    x = BatchNormalization(axis=1)(x)\n",
        "    x = Activation(\"relu\")(x)\n",
        "    \n",
        "    x = Deconvolution2D(32, (3, 3), output_shape=(batch_size, m/2, n/2, 32), padding='same', strides=(2,2))(x)\n",
        "    x = BatchNormalization(axis=1)(x)\n",
        "    x = Activation(\"relu\")(x)\n",
        "\n",
        "    # final conv block\n",
        "    x = Convolution2D(3, (9, 9), padding=\"same\", strides=(1,1))(x)\n",
        "    x = BatchNormalization(axis=1)(x)\n",
        "    x = Activation(\"sigmoid\")(x)\n",
        "    \n",
        "    return x"
      ],
      "execution_count": 0,
      "outputs": []
    },
    {
      "cell_type": "code",
      "metadata": {
        "id": "66N0QRVkxsri",
        "colab_type": "code",
        "colab": {}
      },
      "source": [
        "def discriminator_model(img_input):\n",
        "    \n",
        "    x = Conv2D(64, (3, 3), activation='relu', padding='same', name='d_block1_conv1')(img_input)\n",
        "    x = Conv2D(64, (3, 3), activation='relu', padding='same', name='d_block1_conv2')(x)\n",
        "    x = MaxPooling2D((2, 2), strides=(2, 2), name='d_block1_pool')(x)\n",
        "\n",
        "    # Block 2\n",
        "    x = Conv2D(128, (3, 3), activation='relu', padding='same', name='d_block2_conv1')(x)\n",
        "    x = Conv2D(128, (3, 3), activation='relu', padding='same', name='d_block2_conv2')(x)\n",
        "    x = MaxPooling2D((2, 2), strides=(2, 2), name='d_block2_pool')(x)\n",
        "\n",
        "    # Block 3\n",
        "    x = Conv2D(256, (3, 3), activation='relu', padding='same', name='d_block3_conv1')(x)\n",
        "    x = Conv2D(256, (3, 3), activation='relu', padding='same', name='d_block3_conv2')(x)\n",
        "    x = Conv2D(256, (3, 3), activation='relu', padding='same', name='d_block3_conv3')(x)\n",
        "    x = MaxPooling2D((2, 2), strides=(2, 2), name='d_block3_pool')(x)\n",
        "\n",
        "    # Block 4\n",
        "    x = Conv2D(512, (3, 3), activation='relu', padding='same', name='d_block4_conv1')(x)\n",
        "    x = Conv2D(512, (3, 3), activation='relu', padding='same', name='d_block4_conv2')(x)\n",
        "    x = Conv2D(512, (3, 3), activation='relu', padding='same', name='d_block4_conv3')(x)\n",
        "    x = MaxPooling2D((2, 2), strides=(2, 2), name='d_block4_pool')(x)\n",
        "\n",
        "    # Block 5\n",
        "    x = Conv2D(512, (3, 3), activation='relu', padding='same', name='d_block5_conv1')(x)\n",
        "    x = Conv2D(512, (3, 3), activation='relu', padding='same', name='d_block5_conv2')(x)\n",
        "    x = Conv2D(512, (3, 3), activation='relu', padding='same', name='d_block5_conv3')(x)\n",
        "    x = MaxPooling2D((2, 2), strides=(2, 2), name='d_block5_pool')(x)\n",
        "    \n",
        "    x = Flatten(name='flatten')(x)\n",
        "    x = Dense(512, activation='relu', name='d_fc1')(x)\n",
        "    x = Dropout(0.5)(x)\n",
        "    x = Dense(1, activation='relu', name='d_fc2')(x)\n",
        "    model = Model(inputs=img_input, outputs=x)\n",
        "    \n",
        "    return model"
      ],
      "execution_count": 0,
      "outputs": []
    },
    {
      "cell_type": "code",
      "metadata": {
        "id": "1-Hp_Oqlxsro",
        "colab_type": "code",
        "colab": {}
      },
      "source": [
        "def feat_model(img_input):\n",
        "    # extract vgg feature\n",
        "    vgg_16 = vgg16.VGG16(include_top=False, weights='imagenet', input_tensor=None)\n",
        "    # freeze VGG_16 when training\n",
        "    for layer in vgg_16.layers:\n",
        "        layer.trainable = False\n",
        "    \n",
        "    vgg_first2 = Model(inputs=vgg_16.input, outputs=vgg_16.get_layer('block2_conv2').output)\n",
        "    Norm_layer = Lambda(preprocess_VGG)\n",
        "    x_VGG = Norm_layer(img_input)\n",
        "    feat = vgg_first2(x_VGG)\n",
        "    print(\"feat:\",feat)\n",
        "    return feat"
      ],
      "execution_count": 0,
      "outputs": []
    },
    {
      "cell_type": "code",
      "metadata": {
        "id": "8MzU1Sm0xsrt",
        "colab_type": "code",
        "colab": {}
      },
      "source": [
        "def full_model(summary = True):\n",
        "    input_img = Input(shape=(m, n, 1))\n",
        "    generator = generator_model(input_img)\n",
        "    feat = feat_model(generator)\n",
        "    model = Model(inputs=input_img, outputs=[generator, feat], name='sketch_inversion')\n",
        "    \n",
        "    model.summary()\n",
        "    return model"
      ],
      "execution_count": 0,
      "outputs": []
    },
    {
      "cell_type": "code",
      "metadata": {
        "id": "ae1zdZGMxsr1",
        "colab_type": "code",
        "colab": {}
      },
      "source": [
        "def full_model_2(summary = True):\n",
        "    input_img = Input(shape=(m, n, 1))\n",
        "    \n",
        "    generator = generator_model_2(input_img)\n",
        "    feat = feat_model(generator)\n",
        "    model = Model(inputs=input_img, outputs=[generator, feat], name='sketch_inversion')\n",
        "    \n",
        "    model.summary()\n",
        "    return model"
      ],
      "execution_count": 0,
      "outputs": []
    },
    {
      "cell_type": "code",
      "metadata": {
        "id": "Ho658i3Yxsr5",
        "colab_type": "code",
        "colab": {}
      },
      "source": [
        "def write_log(callback, name, value, batch_no):\n",
        "    summary = tf.Summary()\n",
        "    summary_value = summary.value.add()\n",
        "    summary_value.simple_value = value\n",
        "    summary_value.tag = name\n",
        "    callback.writer.add_summary(summary, batch_no)\n",
        "    callback.writer.flush()"
      ],
      "execution_count": 0,
      "outputs": []
    },
    {
      "cell_type": "markdown",
      "metadata": {
        "id": "ckyUnhK6xsr-",
        "colab_type": "text"
      },
      "source": [
        "# Generative Adversarial Networks Model\n",
        "## Referencing paper \"Scribbler: Controlling Deep Image Synthesis with Sketch and Color\"\n",
        "by Patsorn Sangkloy, Jingwan Lu, Chen Fang, Fisher Yu, and James Hays"
      ]
    },
    {
      "cell_type": "code",
      "metadata": {
        "id": "D6UWBQ1uxssB",
        "colab_type": "code",
        "outputId": "cb9f67e3-f68d-47aa-be49-18903aa91475",
        "colab": {
          "base_uri": "https://localhost:8080/",
          "height": 4610
        }
      },
      "source": [
        "gan_start_time = time.time()\n",
        "\n",
        "# Adversarial ground truths\n",
        "valid = np.ones((batch_size, 1))\n",
        "fake = np.zeros((batch_size, 1))\n",
        "\n",
        "optim = Adam(lr=1e-4,beta_1=0.9, beta_2=0.999, epsilon=1e-8)\n",
        "\n",
        "# discriminator model\n",
        "discriminator = discriminator_model(Input(shape=(m, n, 3)))\n",
        "discriminator.compile(loss='binary_crossentropy',optimizer=optim, metrics=['accuracy'])\n",
        "discriminator.trainable=True\n",
        "discriminator.summary()\n",
        "\n",
        "# generator model\n",
        "input_img = Input(shape=(m, n, 1))\n",
        "generator = generator_model(input_img)\n",
        "gen_model = Model(input=input_img, output=generator, name='gen_model')\n",
        "gen_model.summary()\n",
        "\n",
        "# feature model\n",
        "feat = feat_model(generator)\n",
        "\n",
        "# combined model, freeze discriminator\n",
        "discriminator.trainable=False\n",
        "img = gen_model(input_img)\n",
        "dis_img = discriminator(img)\n",
        "\n",
        "# 1st version, with only adv_loss\n",
        "# combined_model = Model(input=input_img, outputs=dis_img, name='architect')\n",
        "# combined_model.compile(loss= adv_loss, optimizer=optim)\n",
        "\n",
        "# 2nd version, with adv_loss and pixel loss\n",
        "# combined_model = Model(input=input_img, outputs=[img, dis_img], name='architect')\n",
        "# combined_model.compile(loss= [pixel_loss, adv_loss],loss_weights=[1, 0.01], optimizer=optim)\n",
        "\n",
        "# 3rd version, with adv_loss, pixel loss and feature loss\n",
        "combined_model = Model(input=input_img, output=[img, feat, dis_img], name='architect')\n",
        "combined_model.compile(loss= [pixel_loss, feature_loss, 'binary_crossentropy'],\n",
        "                       loss_weights=[1, 0.01, 0.1], optimizer=optim)\n",
        "\n",
        "# Original: with pixel loss and feature loss only\n",
        "# combined_model = Model(input=input_img, output=[img, feat], name='architect')\n",
        "# combined_model.compile(loss= [pixel_loss, feature_loss],loss_weights=[1, 0.01], optimizer=optim)\n",
        "\n",
        "combined_model.summary()\n",
        "        \n",
        "log_path = '/content/drive/My Drive/CS5242/logs'\n",
        "callback = TensorBoard(log_path)\n",
        "callback.set_model(combined_model)"
      ],
      "execution_count": 0,
      "outputs": [
        {
          "output_type": "stream",
          "text": [
            "WARNING:tensorflow:From /usr/local/lib/python3.6/dist-packages/tensorflow/python/framework/op_def_library.py:263: colocate_with (from tensorflow.python.framework.ops) is deprecated and will be removed in a future version.\n",
            "Instructions for updating:\n",
            "Colocations handled automatically by placer.\n",
            "WARNING:tensorflow:From /usr/local/lib/python3.6/dist-packages/keras/backend/tensorflow_backend.py:3445: calling dropout (from tensorflow.python.ops.nn_ops) with keep_prob is deprecated and will be removed in a future version.\n",
            "Instructions for updating:\n",
            "Please use `rate` instead of `keep_prob`. Rate should be set to `rate = 1 - keep_prob`.\n",
            "_________________________________________________________________\n",
            "Layer (type)                 Output Shape              Param #   \n",
            "=================================================================\n",
            "input_1 (InputLayer)         (None, 504, 400, 3)       0         \n",
            "_________________________________________________________________\n",
            "d_block1_conv1 (Conv2D)      (None, 504, 400, 64)      1792      \n",
            "_________________________________________________________________\n",
            "d_block1_conv2 (Conv2D)      (None, 504, 400, 64)      36928     \n",
            "_________________________________________________________________\n",
            "d_block1_pool (MaxPooling2D) (None, 252, 200, 64)      0         \n",
            "_________________________________________________________________\n",
            "d_block2_conv1 (Conv2D)      (None, 252, 200, 128)     73856     \n",
            "_________________________________________________________________\n",
            "d_block2_conv2 (Conv2D)      (None, 252, 200, 128)     147584    \n",
            "_________________________________________________________________\n",
            "d_block2_pool (MaxPooling2D) (None, 126, 100, 128)     0         \n",
            "_________________________________________________________________\n",
            "d_block3_conv1 (Conv2D)      (None, 126, 100, 256)     295168    \n",
            "_________________________________________________________________\n",
            "d_block3_conv2 (Conv2D)      (None, 126, 100, 256)     590080    \n",
            "_________________________________________________________________\n",
            "d_block3_conv3 (Conv2D)      (None, 126, 100, 256)     590080    \n",
            "_________________________________________________________________\n",
            "d_block3_pool (MaxPooling2D) (None, 63, 50, 256)       0         \n",
            "_________________________________________________________________\n",
            "d_block4_conv1 (Conv2D)      (None, 63, 50, 512)       1180160   \n",
            "_________________________________________________________________\n",
            "d_block4_conv2 (Conv2D)      (None, 63, 50, 512)       2359808   \n",
            "_________________________________________________________________\n",
            "d_block4_conv3 (Conv2D)      (None, 63, 50, 512)       2359808   \n",
            "_________________________________________________________________\n",
            "d_block4_pool (MaxPooling2D) (None, 31, 25, 512)       0         \n",
            "_________________________________________________________________\n",
            "d_block5_conv1 (Conv2D)      (None, 31, 25, 512)       2359808   \n",
            "_________________________________________________________________\n",
            "d_block5_conv2 (Conv2D)      (None, 31, 25, 512)       2359808   \n",
            "_________________________________________________________________\n",
            "d_block5_conv3 (Conv2D)      (None, 31, 25, 512)       2359808   \n",
            "_________________________________________________________________\n",
            "d_block5_pool (MaxPooling2D) (None, 15, 12, 512)       0         \n",
            "_________________________________________________________________\n",
            "flatten (Flatten)            (None, 92160)             0         \n",
            "_________________________________________________________________\n",
            "d_fc1 (Dense)                (None, 512)               47186432  \n",
            "_________________________________________________________________\n",
            "dropout_1 (Dropout)          (None, 512)               0         \n",
            "_________________________________________________________________\n",
            "d_fc2 (Dense)                (None, 1)                 513       \n",
            "=================================================================\n",
            "Total params: 61,901,633\n",
            "Trainable params: 61,901,633\n",
            "Non-trainable params: 0\n",
            "_________________________________________________________________\n",
            "decoded: Tensor(\"conv2d_14/Sigmoid:0\", shape=(?, 504, 400, 3), dtype=float32)\n",
            "__________________________________________________________________________________________________\n",
            "Layer (type)                    Output Shape         Param #     Connected to                     \n",
            "==================================================================================================\n",
            "input_2 (InputLayer)            (None, 504, 400, 1)  0                                            \n",
            "__________________________________________________________________________________________________\n",
            "conv2d_1 (Conv2D)               (None, 504, 400, 32) 320         input_2[0][0]                    \n",
            "__________________________________________________________________________________________________\n",
            "conv2d_2 (Conv2D)               (None, 504, 400, 32) 4128        conv2d_1[0][0]                   \n",
            "__________________________________________________________________________________________________\n",
            "max_pooling2d_1 (MaxPooling2D)  (None, 252, 200, 32) 0           conv2d_2[0][0]                   \n",
            "__________________________________________________________________________________________________\n",
            "block2_conv1 (Conv2D)           (None, 252, 200, 64) 18496       max_pooling2d_1[0][0]            \n",
            "__________________________________________________________________________________________________\n",
            "conv2d_3 (Conv2D)               (None, 252, 200, 64) 16448       block2_conv1[0][0]               \n",
            "__________________________________________________________________________________________________\n",
            "max_pooling2d_2 (MaxPooling2D)  (None, 126, 100, 64) 0           conv2d_3[0][0]                   \n",
            "__________________________________________________________________________________________________\n",
            "block3_conv1 (Conv2D)           (None, 126, 100, 128 73856       max_pooling2d_2[0][0]            \n",
            "__________________________________________________________________________________________________\n",
            "conv2d_4 (Conv2D)               (None, 126, 100, 128 147584      block3_conv1[0][0]               \n",
            "__________________________________________________________________________________________________\n",
            "max_pooling2d_3 (MaxPooling2D)  (None, 63, 50, 128)  0           conv2d_4[0][0]                   \n",
            "__________________________________________________________________________________________________\n",
            "block4_conv1 (Conv2D)           (None, 63, 50, 256)  295168      max_pooling2d_3[0][0]            \n",
            "__________________________________________________________________________________________________\n",
            "conv2d_5 (Conv2D)               (None, 63, 50, 256)  590080      block4_conv1[0][0]               \n",
            "__________________________________________________________________________________________________\n",
            "add_1 (Add)                     (None, 63, 50, 256)  0           block4_conv1[0][0]               \n",
            "                                                                 conv2d_5[0][0]                   \n",
            "__________________________________________________________________________________________________\n",
            "conv2d_6 (Conv2D)               (None, 63, 50, 256)  590080      add_1[0][0]                      \n",
            "__________________________________________________________________________________________________\n",
            "add_2 (Add)                     (None, 63, 50, 256)  0           add_1[0][0]                      \n",
            "                                                                 conv2d_6[0][0]                   \n",
            "__________________________________________________________________________________________________\n",
            "block5_conv1 (Conv2D)           (None, 63, 50, 256)  590080      add_2[0][0]                      \n",
            "__________________________________________________________________________________________________\n",
            "add_3 (Add)                     (None, 63, 50, 256)  0           add_2[0][0]                      \n",
            "                                                                 block5_conv1[0][0]               \n",
            "__________________________________________________________________________________________________\n",
            "conv2d_7 (Conv2D)               (None, 63, 50, 256)  590080      add_3[0][0]                      \n",
            "__________________________________________________________________________________________________\n",
            "add_4 (Add)                     (None, 63, 50, 256)  0           add_3[0][0]                      \n",
            "                                                                 conv2d_7[0][0]                   \n",
            "__________________________________________________________________________________________________\n",
            "conv2d_8 (Conv2D)               (None, 63, 50, 256)  590080      add_4[0][0]                      \n",
            "__________________________________________________________________________________________________\n",
            "add_5 (Add)                     (None, 63, 50, 256)  0           add_4[0][0]                      \n",
            "                                                                 conv2d_8[0][0]                   \n",
            "__________________________________________________________________________________________________\n",
            "block6_conv1 (Conv2D)           (None, 63, 50, 128)  131200      add_5[0][0]                      \n",
            "__________________________________________________________________________________________________\n",
            "up_sampling2d_1 (UpSampling2D)  (None, 126, 100, 128 0           block6_conv1[0][0]               \n",
            "__________________________________________________________________________________________________\n",
            "block7_conv1 (Conv2D)           (None, 126, 100, 128 147584      up_sampling2d_1[0][0]            \n",
            "__________________________________________________________________________________________________\n",
            "conv2d_9 (Conv2D)               (None, 126, 100, 128 147584      block7_conv1[0][0]               \n",
            "__________________________________________________________________________________________________\n",
            "add_6 (Add)                     (None, 126, 100, 128 0           block7_conv1[0][0]               \n",
            "                                                                 conv2d_9[0][0]                   \n",
            "__________________________________________________________________________________________________\n",
            "conv2d_10 (Conv2D)              (None, 126, 100, 128 147584      add_6[0][0]                      \n",
            "__________________________________________________________________________________________________\n",
            "add_7 (Add)                     (None, 126, 100, 128 0           add_6[0][0]                      \n",
            "                                                                 conv2d_10[0][0]                  \n",
            "__________________________________________________________________________________________________\n",
            "block8_conv1 (Conv2D)           (None, 126, 100, 64) 32832       add_7[0][0]                      \n",
            "__________________________________________________________________________________________________\n",
            "up_sampling2d_2 (UpSampling2D)  (None, 252, 200, 64) 0           block8_conv1[0][0]               \n",
            "__________________________________________________________________________________________________\n",
            "block9_conv1 (Conv2D)           (None, 252, 200, 64) 36928       up_sampling2d_2[0][0]            \n",
            "__________________________________________________________________________________________________\n",
            "conv2d_11 (Conv2D)              (None, 252, 200, 64) 36928       block9_conv1[0][0]               \n",
            "__________________________________________________________________________________________________\n",
            "add_8 (Add)                     (None, 252, 200, 64) 0           block9_conv1[0][0]               \n",
            "                                                                 conv2d_11[0][0]                  \n",
            "__________________________________________________________________________________________________\n",
            "conv2d_12 (Conv2D)              (None, 252, 200, 64) 36928       add_8[0][0]                      \n",
            "__________________________________________________________________________________________________\n",
            "add_9 (Add)                     (None, 252, 200, 64) 0           add_8[0][0]                      \n",
            "                                                                 conv2d_12[0][0]                  \n",
            "__________________________________________________________________________________________________\n",
            "block10_conv1 (Conv2D)          (None, 252, 200, 32) 8224        add_9[0][0]                      \n",
            "__________________________________________________________________________________________________\n",
            "up_sampling2d_3 (UpSampling2D)  (None, 504, 400, 32) 0           block10_conv1[0][0]              \n",
            "__________________________________________________________________________________________________\n",
            "block11_conv1 (Conv2D)          (None, 504, 400, 32) 9248        up_sampling2d_3[0][0]            \n",
            "__________________________________________________________________________________________________\n",
            "conv2d_13 (Conv2D)              (None, 504, 400, 32) 9248        block11_conv1[0][0]              \n",
            "__________________________________________________________________________________________________\n",
            "add_10 (Add)                    (None, 504, 400, 32) 0           block11_conv1[0][0]              \n",
            "                                                                 conv2d_13[0][0]                  \n",
            "__________________________________________________________________________________________________\n",
            "conv2d_14 (Conv2D)              (None, 504, 400, 3)  867         add_10[0][0]                     \n",
            "==================================================================================================\n",
            "Total params: 4,251,555\n",
            "Trainable params: 4,251,555\n",
            "Non-trainable params: 0\n",
            "__________________________________________________________________________________________________\n"
          ],
          "name": "stdout"
        },
        {
          "output_type": "stream",
          "text": [
            "/usr/local/lib/python3.6/dist-packages/ipykernel_launcher.py:18: UserWarning: Update your `Model` call to the Keras 2 API: `Model(name=\"gen_model\", inputs=Tensor(\"in..., outputs=Tensor(\"co...)`\n"
          ],
          "name": "stderr"
        },
        {
          "output_type": "stream",
          "text": [
            "feat: Tensor(\"model_2/block2_conv2/Relu:0\", shape=(?, 252, 200, 128), dtype=float32)\n"
          ],
          "name": "stdout"
        },
        {
          "output_type": "stream",
          "text": [
            "/usr/local/lib/python3.6/dist-packages/ipykernel_launcher.py:38: UserWarning: Update your `Model` call to the Keras 2 API: `Model(name=\"architect\", inputs=Tensor(\"in..., outputs=[<tf.Tenso...)`\n"
          ],
          "name": "stderr"
        },
        {
          "output_type": "stream",
          "text": [
            "__________________________________________________________________________________________________\n",
            "Layer (type)                    Output Shape         Param #     Connected to                     \n",
            "==================================================================================================\n",
            "input_2 (InputLayer)            (None, 504, 400, 1)  0                                            \n",
            "__________________________________________________________________________________________________\n",
            "conv2d_1 (Conv2D)               (None, 504, 400, 32) 320         input_2[0][0]                    \n",
            "__________________________________________________________________________________________________\n",
            "conv2d_2 (Conv2D)               (None, 504, 400, 32) 4128        conv2d_1[0][0]                   \n",
            "__________________________________________________________________________________________________\n",
            "max_pooling2d_1 (MaxPooling2D)  (None, 252, 200, 32) 0           conv2d_2[0][0]                   \n",
            "__________________________________________________________________________________________________\n",
            "block2_conv1 (Conv2D)           (None, 252, 200, 64) 18496       max_pooling2d_1[0][0]            \n",
            "__________________________________________________________________________________________________\n",
            "conv2d_3 (Conv2D)               (None, 252, 200, 64) 16448       block2_conv1[0][0]               \n",
            "__________________________________________________________________________________________________\n",
            "max_pooling2d_2 (MaxPooling2D)  (None, 126, 100, 64) 0           conv2d_3[0][0]                   \n",
            "__________________________________________________________________________________________________\n",
            "block3_conv1 (Conv2D)           (None, 126, 100, 128 73856       max_pooling2d_2[0][0]            \n",
            "__________________________________________________________________________________________________\n",
            "conv2d_4 (Conv2D)               (None, 126, 100, 128 147584      block3_conv1[0][0]               \n",
            "__________________________________________________________________________________________________\n",
            "max_pooling2d_3 (MaxPooling2D)  (None, 63, 50, 128)  0           conv2d_4[0][0]                   \n",
            "__________________________________________________________________________________________________\n",
            "block4_conv1 (Conv2D)           (None, 63, 50, 256)  295168      max_pooling2d_3[0][0]            \n",
            "__________________________________________________________________________________________________\n",
            "conv2d_5 (Conv2D)               (None, 63, 50, 256)  590080      block4_conv1[0][0]               \n",
            "__________________________________________________________________________________________________\n",
            "add_1 (Add)                     (None, 63, 50, 256)  0           block4_conv1[0][0]               \n",
            "                                                                 conv2d_5[0][0]                   \n",
            "__________________________________________________________________________________________________\n",
            "conv2d_6 (Conv2D)               (None, 63, 50, 256)  590080      add_1[0][0]                      \n",
            "__________________________________________________________________________________________________\n",
            "add_2 (Add)                     (None, 63, 50, 256)  0           add_1[0][0]                      \n",
            "                                                                 conv2d_6[0][0]                   \n",
            "__________________________________________________________________________________________________\n",
            "block5_conv1 (Conv2D)           (None, 63, 50, 256)  590080      add_2[0][0]                      \n",
            "__________________________________________________________________________________________________\n",
            "add_3 (Add)                     (None, 63, 50, 256)  0           add_2[0][0]                      \n",
            "                                                                 block5_conv1[0][0]               \n",
            "__________________________________________________________________________________________________\n",
            "conv2d_7 (Conv2D)               (None, 63, 50, 256)  590080      add_3[0][0]                      \n",
            "__________________________________________________________________________________________________\n",
            "add_4 (Add)                     (None, 63, 50, 256)  0           add_3[0][0]                      \n",
            "                                                                 conv2d_7[0][0]                   \n",
            "__________________________________________________________________________________________________\n",
            "conv2d_8 (Conv2D)               (None, 63, 50, 256)  590080      add_4[0][0]                      \n",
            "__________________________________________________________________________________________________\n",
            "add_5 (Add)                     (None, 63, 50, 256)  0           add_4[0][0]                      \n",
            "                                                                 conv2d_8[0][0]                   \n",
            "__________________________________________________________________________________________________\n",
            "block6_conv1 (Conv2D)           (None, 63, 50, 128)  131200      add_5[0][0]                      \n",
            "__________________________________________________________________________________________________\n",
            "up_sampling2d_1 (UpSampling2D)  (None, 126, 100, 128 0           block6_conv1[0][0]               \n",
            "__________________________________________________________________________________________________\n",
            "block7_conv1 (Conv2D)           (None, 126, 100, 128 147584      up_sampling2d_1[0][0]            \n",
            "__________________________________________________________________________________________________\n",
            "conv2d_9 (Conv2D)               (None, 126, 100, 128 147584      block7_conv1[0][0]               \n",
            "__________________________________________________________________________________________________\n",
            "add_6 (Add)                     (None, 126, 100, 128 0           block7_conv1[0][0]               \n",
            "                                                                 conv2d_9[0][0]                   \n",
            "__________________________________________________________________________________________________\n",
            "conv2d_10 (Conv2D)              (None, 126, 100, 128 147584      add_6[0][0]                      \n",
            "__________________________________________________________________________________________________\n",
            "add_7 (Add)                     (None, 126, 100, 128 0           add_6[0][0]                      \n",
            "                                                                 conv2d_10[0][0]                  \n",
            "__________________________________________________________________________________________________\n",
            "block8_conv1 (Conv2D)           (None, 126, 100, 64) 32832       add_7[0][0]                      \n",
            "__________________________________________________________________________________________________\n",
            "up_sampling2d_2 (UpSampling2D)  (None, 252, 200, 64) 0           block8_conv1[0][0]               \n",
            "__________________________________________________________________________________________________\n",
            "block9_conv1 (Conv2D)           (None, 252, 200, 64) 36928       up_sampling2d_2[0][0]            \n",
            "__________________________________________________________________________________________________\n",
            "conv2d_11 (Conv2D)              (None, 252, 200, 64) 36928       block9_conv1[0][0]               \n",
            "__________________________________________________________________________________________________\n",
            "add_8 (Add)                     (None, 252, 200, 64) 0           block9_conv1[0][0]               \n",
            "                                                                 conv2d_11[0][0]                  \n",
            "__________________________________________________________________________________________________\n",
            "conv2d_12 (Conv2D)              (None, 252, 200, 64) 36928       add_8[0][0]                      \n",
            "__________________________________________________________________________________________________\n",
            "add_9 (Add)                     (None, 252, 200, 64) 0           add_8[0][0]                      \n",
            "                                                                 conv2d_12[0][0]                  \n",
            "__________________________________________________________________________________________________\n",
            "block10_conv1 (Conv2D)          (None, 252, 200, 32) 8224        add_9[0][0]                      \n",
            "__________________________________________________________________________________________________\n",
            "up_sampling2d_3 (UpSampling2D)  (None, 504, 400, 32) 0           block10_conv1[0][0]              \n",
            "__________________________________________________________________________________________________\n",
            "block11_conv1 (Conv2D)          (None, 504, 400, 32) 9248        up_sampling2d_3[0][0]            \n",
            "__________________________________________________________________________________________________\n",
            "conv2d_13 (Conv2D)              (None, 504, 400, 32) 9248        block11_conv1[0][0]              \n",
            "__________________________________________________________________________________________________\n",
            "add_10 (Add)                    (None, 504, 400, 32) 0           block11_conv1[0][0]              \n",
            "                                                                 conv2d_13[0][0]                  \n",
            "__________________________________________________________________________________________________\n",
            "conv2d_14 (Conv2D)              (None, 504, 400, 3)  867         add_10[0][0]                     \n",
            "__________________________________________________________________________________________________\n",
            "gen_model (Model)               (None, 504, 400, 3)  4251555     input_2[0][0]                    \n",
            "__________________________________________________________________________________________________\n",
            "lambda_1 (Lambda)               (None, 504, 400, 3)  0           conv2d_14[0][0]                  \n",
            "__________________________________________________________________________________________________\n",
            "model_2 (Model)                 multiple             260160      lambda_1[0][0]                   \n",
            "__________________________________________________________________________________________________\n",
            "model_1 (Model)                 (None, 1)            61901633    gen_model[1][0]                  \n",
            "==================================================================================================\n",
            "Total params: 66,413,348\n",
            "Trainable params: 4,251,555\n",
            "Non-trainable params: 62,161,793\n",
            "__________________________________________________________________________________________________\n"
          ],
          "name": "stdout"
        }
      ]
    },
    {
      "cell_type": "code",
      "metadata": {
        "id": "NjyHdXOcxssP",
        "colab_type": "code",
        "outputId": "f7b17f98-6d36-40ce-eda8-7a0a78036fe5",
        "colab": {
          "base_uri": "https://localhost:8080/",
          "height": 190
        }
      },
      "source": [
        "for epoch in range(num_epochs):\n",
        "    num_batches = num_images // batch_size\n",
        "\n",
        "    for batch in range(num_batches):\n",
        "        # Y: real images\n",
        "        X,Y,W = get_batch(batch, dataset=['cuhk'])\n",
        "#         X,Y,W = get_batch(batch, dataset=['cuhk'])\n",
        "        # Y_pred: fake images\n",
        "        Y_pred = gen_model.predict(X) \n",
        "\n",
        "        # Train the discriminator (real classified as ones and generated as zeros)\n",
        "        d_loss_real = discriminator.train_on_batch(Y, valid)\n",
        "        d_loss_fake = discriminator.train_on_batch(Y_pred, fake)\n",
        "        d_loss = 0.5 * np.add(d_loss_real, d_loss_fake)\n",
        "\n",
        "        # Train combined_model model\n",
        "        # 1st version\n",
        "        # g_loss = combined_model.train_on_batch(X, valid)\n",
        "        # 2nd version\n",
        "        # g_loss = combined_model.train_on_batch(X, [Y,valid])\n",
        "        # 3rd version\n",
        "        g_loss = combined_model.train_on_batch(X, [Y,W,valid])\n",
        "        # original\n",
        "#         g_loss = combined_model.train_on_batch(X, [Y,W])\n",
        "        \n",
        "        print (\"epoch: \" + str(epoch) + \", batch:\" + str(batch) + \", D loss: \" + str(d_loss) + \", G loss: \" + str(g_loss) \n",
        "                + \", D loss real: \" + str(d_loss_real) + \", D loss fake: \" + str(d_loss_fake))\n",
        "    \n",
        "    write_log(callback, 'total_loss', g_loss[0], epoch)\n",
        "    write_log(callback, 'pixel_loss', g_loss[1], epoch)\n",
        "    write_log(callback, 'feature_loss', g_loss[2], epoch)\n",
        "    write_log(callback, 'adversarial_loss', g_loss[3], epoch)\n",
        "\n",
        "\n",
        "#     discriminator.save_weights(\"discriminator_weights_%d\" % epoch)\n",
        "#     gen_model.save_weights(\"gen_weights_%d\" % epoch)\n",
        "#     combined_model.save_weights(\"combined_model_%d\" % epoch)\n",
        "print(\"time taken: \", time.time() - gan_start_time)"
      ],
      "execution_count": 0,
      "outputs": [
        {
          "output_type": "stream",
          "text": [
            "/usr/local/lib/python3.6/dist-packages/skimage/transform/_warps.py:105: UserWarning: The default mode, 'constant', will be changed to 'reflect' in skimage 0.15.\n",
            "  warn(\"The default mode, 'constant', will be changed to 'reflect' in \"\n",
            "/usr/local/lib/python3.6/dist-packages/skimage/transform/_warps.py:110: UserWarning: Anti-aliasing will be enabled by default in skimage 0.15 to avoid aliasing artifacts when down-sampling images.\n",
            "  warn(\"Anti-aliasing will be enabled by default in skimage 0.15 to \"\n"
          ],
          "name": "stderr"
        },
        {
          "output_type": "stream",
          "text": [
            "WARNING:tensorflow:From /usr/local/lib/python3.6/dist-packages/tensorflow/python/ops/math_ops.py:3066: to_int32 (from tensorflow.python.ops.math_ops) is deprecated and will be removed in a future version.\n",
            "Instructions for updating:\n",
            "Use tf.cast instead.\n"
          ],
          "name": "stdout"
        },
        {
          "output_type": "stream",
          "text": [
            "/usr/local/lib/python3.6/dist-packages/keras/engine/training.py:490: UserWarning: Discrepancy between trainable weights and collected trainable weights, did you set `model.trainable` without calling `model.compile` after ?\n",
            "  'Discrepancy between trainable weights and collected trainable'\n"
          ],
          "name": "stderr"
        }
      ]
    },
    {
      "cell_type": "code",
      "metadata": {
        "id": "EMf2KcLNxssY",
        "colab_type": "code",
        "colab": {}
      },
      "source": [
        "combined_model.save(\"/content/drive/My Drive/CS5242/model_GAN_\" + str(time.time()) + \".h5\")\n",
        "model = combined_model"
      ],
      "execution_count": 0,
      "outputs": []
    },
    {
      "cell_type": "markdown",
      "metadata": {
        "id": "FqgfsiPCxssx",
        "colab_type": "text"
      },
      "source": [
        "# Prediction for GAN Model"
      ]
    },
    {
      "cell_type": "code",
      "metadata": {
        "id": "5_JWCSjfxssz",
        "colab_type": "code",
        "outputId": "08a88547-81dd-4720-8e39-3a44140a0f50",
        "colab": {
          "base_uri": "https://localhost:8080/",
          "height": 122
        }
      },
      "source": [
        "# Trained with CUHK v2, best model so far, 30 epochs\n",
        "# model = load_model(\"model_1554567513.8089657.h5\",  \n",
        "#                    custom_objects={'pixel_loss': pixel_loss, 'feature_loss' : feature_loss})\n",
        "\n",
        "# model = load_model(\"model_1554643885.0671806.h5\",  \n",
        "#                    custom_objects={'pixel_loss': pixel_loss, 'feature_loss' : feature_loss})\n",
        "\n",
        "# model = load_model(\"model_1554786205.173943.h5\",   #test if it still works\n",
        "#                    custom_objects={'pixel_loss': pixel_loss, 'feature_loss' : feature_loss})\n",
        "\n",
        "# # using feret original as training set\n",
        "# model = load_model(\"model_1554939815.8514454.h5\",\n",
        "#                    custom_objects={'pixel_loss': pixel_loss, 'feature_loss' : feature_loss})\n",
        "\n",
        "\n",
        "model = load_model(\"/content/drive/My Drive/CS5242/model_GAN_1555315737.2929273.h5\",\n",
        "                   custom_objects={'pixel_loss': pixel_loss, 'feature_loss' : feature_loss})\n",
        "\n",
        "# Trained with CUHK v2, with 40 epochs\n"
      ],
      "execution_count": 0,
      "outputs": [
        {
          "output_type": "stream",
          "text": [
            "WARNING:tensorflow:From /usr/local/lib/python3.6/dist-packages/tensorflow/python/ops/math_ops.py:3066: to_int32 (from tensorflow.python.ops.math_ops) is deprecated and will be removed in a future version.\n",
            "Instructions for updating:\n",
            "Use tf.cast instead.\n"
          ],
          "name": "stdout"
        },
        {
          "output_type": "stream",
          "text": [
            "/usr/local/lib/python3.6/dist-packages/keras/engine/saving.py:327: UserWarning: Error in loading the saved optimizer state. As a result, your model is starting with a freshly initialized optimizer.\n",
            "  warnings.warn('Error in loading the saved optimizer '\n"
          ],
          "name": "stderr"
        }
      ]
    },
    {
      "cell_type": "code",
      "metadata": {
        "id": "uVZa8C9zxss3",
        "colab_type": "code",
        "outputId": "c8b1d70e-604d-4904-c55f-2f4e7e6a6440",
        "colab": {
          "base_uri": "https://localhost:8080/",
          "height": 105
        }
      },
      "source": [
        "X, T, _ = get_batch(0, Y = True, W = False, dataset=['cuhk'])\n",
        "Y = model.predict(X[:5])[0] #difference btn GAN n Gen only"
      ],
      "execution_count": 0,
      "outputs": [
        {
          "output_type": "stream",
          "text": [
            "/usr/local/lib/python3.6/dist-packages/skimage/transform/_warps.py:105: UserWarning: The default mode, 'constant', will be changed to 'reflect' in skimage 0.15.\n",
            "  warn(\"The default mode, 'constant', will be changed to 'reflect' in \"\n",
            "/usr/local/lib/python3.6/dist-packages/skimage/transform/_warps.py:110: UserWarning: Anti-aliasing will be enabled by default in skimage 0.15 to avoid aliasing artifacts when down-sampling images.\n",
            "  warn(\"Anti-aliasing will be enabled by default in skimage 0.15 to \"\n"
          ],
          "name": "stderr"
        }
      ]
    },
    {
      "cell_type": "code",
      "metadata": {
        "id": "FH3LZ8XVxss8",
        "colab_type": "code",
        "outputId": "9219a8af-085e-4d55-e52b-0e54611242bf",
        "colab": {
          "base_uri": "https://localhost:8080/",
          "height": 188
        }
      },
      "source": [
        "i = 0\n",
        "x = X[i].reshape(m,n)\n",
        "y = Y[i]\n",
        "sub_plot(x, T[i], y)"
      ],
      "execution_count": 0,
      "outputs": [
        {
          "output_type": "display_data",
          "data": {
            "image/png": "[encoded data removed]",
            "text/plain": [
              "<Figure size 432x288 with 3 Axes>"
            ]
          },
          "metadata": {
            "tags": []
          }
        }
      ]
    },
    {
      "cell_type": "code",
      "metadata": {
        "id": "2BEB8ZGWxstF",
        "colab_type": "code",
        "colab": {}
      },
      "source": [
        "sketch = cv.imread('dataset_v4/CUHK_test_sketch/f-040-01-sz1.jpg', 0)\n",
        "sketch = resize(sketch, sketch_dim)\n",
        "#sketch = sketch / 255.\n",
        "sketch = sketch.reshape(1,m,n,1)"
      ],
      "execution_count": 0,
      "outputs": []
    },
    {
      "cell_type": "code",
      "metadata": {
        "id": "3GKmuipbxstZ",
        "colab_type": "code",
        "colab": {}
      },
      "source": [
        "result = model.predict(sketch)[0]\n",
        "imshow(result[0])"
      ],
      "execution_count": 0,
      "outputs": []
    },
    {
      "cell_type": "code",
      "metadata": {
        "id": "-UUpQ2hHxstg",
        "colab_type": "code",
        "colab": {}
      },
      "source": [
        "fig = plt.figure()\n",
        "a = fig.add_subplot(1,2,1)\n",
        "imgplot = plt.imshow(sketch[0].reshape(m,n), cmap='gray')\n",
        "a.set_title('Sketch')\n",
        "plt.axis(\"off\")\n",
        "a = fig.add_subplot(1,2,2)\n",
        "imgplot = plt.imshow(result[0])\n",
        "a.set_title('Prediction')\n",
        "plt.axis(\"off\")\n",
        "plt.show()"
      ],
      "execution_count": 0,
      "outputs": []
    },
    {
      "cell_type": "markdown",
      "metadata": {
        "id": "JXq0Jy_Kxsto",
        "colab_type": "text"
      },
      "source": [
        "### Prediction on FERET"
      ]
    },
    {
      "cell_type": "code",
      "metadata": {
        "id": "wPqALlfHxsts",
        "colab_type": "code",
        "colab": {}
      },
      "source": [
        "sketch = cv.imread('dataset/FERET_sketch/00023.jpg', 0)\n",
        "sketch = resize(sketch, sketch_dim)\n",
        "#sketch = sketch / 255.\n",
        "sketch = sketch.reshape(1,m,n,1)"
      ],
      "execution_count": 0,
      "outputs": []
    },
    {
      "cell_type": "code",
      "metadata": {
        "id": "tJpNaRtExstw",
        "colab_type": "code",
        "colab": {}
      },
      "source": [
        "result = model.predict(sketch)[0]\n",
        "imshow(result[0])"
      ],
      "execution_count": 0,
      "outputs": []
    },
    {
      "cell_type": "code",
      "metadata": {
        "id": "z5xatSs4xst1",
        "colab_type": "code",
        "colab": {}
      },
      "source": [
        "fig = plt.figure()\n",
        "a = fig.add_subplot(1,2,1)\n",
        "imgplot = plt.imshow(sketch[0].reshape(m,n), cmap='gray')\n",
        "a.set_title('Sketch')\n",
        "plt.axis(\"off\")\n",
        "a = fig.add_subplot(1,2,2)\n",
        "imgplot = plt.imshow(result[0])\n",
        "a.set_title('Prediction')\n",
        "plt.axis(\"off\")\n",
        "plt.show()"
      ],
      "execution_count": 0,
      "outputs": []
    },
    {
      "cell_type": "markdown",
      "metadata": {
        "id": "BVqmdLYAxsuY",
        "colab_type": "text"
      },
      "source": [
        "### Prediction on Customised Data"
      ]
    },
    {
      "cell_type": "code",
      "metadata": {
        "id": "oXzS_Zw3xsua",
        "colab_type": "code",
        "outputId": "370faf0e-5fb0-4a11-bebc-943c5c6b7aa0",
        "colab": {
          "base_uri": "https://localhost:8080/",
          "height": 105
        }
      },
      "source": [
        "# sketch = cv.imread('Test_Images_from_the_Wild/wang_wei_6.1.jpg', 0)\n",
        "sketch = cv.imread('/content/drive/My Drive/CS5242/2_1.jpg', 0)\n",
        "sketch = resize(sketch, sketch_dim)\n",
        "#sketch = sketch / 255.\n",
        "sketch = sketch.reshape(1,m,n,1)"
      ],
      "execution_count": 0,
      "outputs": [
        {
          "output_type": "stream",
          "text": [
            "/usr/local/lib/python3.6/dist-packages/skimage/transform/_warps.py:105: UserWarning: The default mode, 'constant', will be changed to 'reflect' in skimage 0.15.\n",
            "  warn(\"The default mode, 'constant', will be changed to 'reflect' in \"\n",
            "/usr/local/lib/python3.6/dist-packages/skimage/transform/_warps.py:110: UserWarning: Anti-aliasing will be enabled by default in skimage 0.15 to avoid aliasing artifacts when down-sampling images.\n",
            "  warn(\"Anti-aliasing will be enabled by default in skimage 0.15 to \"\n"
          ],
          "name": "stderr"
        }
      ]
    },
    {
      "cell_type": "code",
      "metadata": {
        "id": "AaK0FnH7xsue",
        "colab_type": "code",
        "outputId": "0f78065a-d0b1-41b2-ff14-1f93eff52ce3",
        "colab": {
          "base_uri": "https://localhost:8080/",
          "height": 269
        }
      },
      "source": [
        "result = model.predict(sketch)[0]\n",
        "imshow(result[0])"
      ],
      "execution_count": 0,
      "outputs": [
        {
          "output_type": "display_data",
          "data": {
            "image/png": "[encoded data removed]",
            "text/plain": [
              "<Figure size 432x288 with 1 Axes>"
            ]
          },
          "metadata": {
            "tags": []
          }
        }
      ]
    },
    {
      "cell_type": "code",
      "metadata": {
        "scrolled": false,
        "id": "dBxHlU0Gxsuk",
        "colab_type": "code",
        "outputId": "7bd87972-8d21-41f9-adcc-fb86857ddac9",
        "colab": {
          "base_uri": "https://localhost:8080/",
          "height": 256
        }
      },
      "source": [
        "fig = plt.figure()\n",
        "a = fig.add_subplot(1,2,1)\n",
        "imgplot = plt.imshow(sketch[0].reshape(m,n), cmap='gray')\n",
        "a.set_title('Sketch')\n",
        "plt.axis(\"off\")\n",
        "a = fig.add_subplot(1,2,2)\n",
        "imgplot = plt.imshow(result[0])\n",
        "a.set_title('Prediction')\n",
        "plt.axis(\"off\")\n",
        "plt.show()"
      ],
      "execution_count": 0,
      "outputs": [
        {
          "output_type": "display_data",
          "data": {
            "image/png": "[encoded data removed]",
            "text/plain": [
              "<Figure size 432x288 with 2 Axes>"
            ]
          },
          "metadata": {
            "tags": []
          }
        }
      ]
    },
    {
      "cell_type": "markdown",
      "metadata": {
        "id": "xb8-1emXxsut",
        "colab_type": "text"
      },
      "source": [
        "# Generator Only Model\n",
        "### Referencing paper \"Convolutional Sketch Inversion\" \n",
        "by Yagmur Gucluturk, Umut Guclu, Rob van Lier, and Marcel A. J. van Gerven"
      ]
    },
    {
      "cell_type": "code",
      "metadata": {
        "id": "IwdxJBKuxsuu",
        "colab_type": "code",
        "colab": {}
      },
      "source": [
        "gen_start_time = time.time()\n",
        "model = full_model()\n",
        "optim = Adam(lr=1e-4,beta_1=0.9, beta_2=0.999, epsilon=1e-8)\n",
        "model.compile(loss=[pixel_loss, feature_loss], loss_weights=[1, 0.01], optimizer=optim)"
      ],
      "execution_count": 0,
      "outputs": []
    },
    {
      "cell_type": "code",
      "metadata": {
        "id": "TURZC4Qnxsu1",
        "colab_type": "code",
        "colab": {}
      },
      "source": [
        "for epoch in range(num_epochs):\n",
        "    num_batches = num_images // batch_size\n",
        "\n",
        "    for batch in range(num_batches):\n",
        "        X,Y,W = get_batch(batch, dataset=['cuhk','feret'])\n",
        "#         loss = model.fit(X, X, verbose = True, shuffle=\"batch\", epochs = 1, batch_size=batch_size)\n",
        "        loss = model.train_on_batch(X, [Y, W])\n",
        "        print(\"Loss in Epoch # \",epoch,\"| Batch #\", batch, \":\", loss)\n",
        "        \n",
        "    model.save_weights(\"weights/weights_at_epoch_%d\" % epoch)\n",
        "\n",
        "print(\"time taken: \", time.time() - gen_start_time)"
      ],
      "execution_count": 0,
      "outputs": []
    },
    {
      "cell_type": "code",
      "metadata": {
        "id": "Z7qcpJbJxsva",
        "colab_type": "code",
        "colab": {}
      },
      "source": [
        "model.save(\"model_\" + str(time.time()) + \".h5\")"
      ],
      "execution_count": 0,
      "outputs": []
    },
    {
      "cell_type": "markdown",
      "metadata": {
        "id": "7jAdMmodxsvg",
        "colab_type": "text"
      },
      "source": [
        "# Prediction for Generator Only Model"
      ]
    },
    {
      "cell_type": "code",
      "metadata": {
        "id": "-S_VwjMHxsvh",
        "colab_type": "code",
        "colab": {}
      },
      "source": [
        "# model = load_model(\"model_1553832422.8651268.h5\",  \n",
        "#                    custom_objects={'pixel_loss': pixel_loss, 'feature_loss' : feature_loss})\n",
        "\n",
        "# model = load_model(\"model_1554582338.5100572.h5\",  \n",
        "#                    custom_objects={'pixel_loss': pixel_loss, 'feature_loss' : feature_loss})\n",
        "\n",
        "# model = load_model(\"model_1554655725.0686414.h5\",  \n",
        "#                    custom_objects={'pixel_loss': pixel_loss, 'feature_loss' : feature_loss})"
      ],
      "execution_count": 0,
      "outputs": []
    },
    {
      "cell_type": "code",
      "metadata": {
        "id": "1aNZQRT7xsvm",
        "colab_type": "code",
        "colab": {}
      },
      "source": [
        "X, T, _ = get_batch(2, X = True, Y = True, W = False, dataset=['cuhk'])\n",
        "Y, W = model.predict(X[:5])"
      ],
      "execution_count": 0,
      "outputs": []
    },
    {
      "cell_type": "code",
      "metadata": {
        "scrolled": true,
        "id": "Cp_6tUhexsvv",
        "colab_type": "code",
        "colab": {}
      },
      "source": [
        "i = 3\n",
        "x = X[i].reshape(m,n)\n",
        "y = Y[i]\n",
        "sub_plot(x, T[i], y)"
      ],
      "execution_count": 0,
      "outputs": []
    },
    {
      "cell_type": "code",
      "metadata": {
        "id": "kIE1dXduxsv4",
        "colab_type": "code",
        "colab": {}
      },
      "source": [
        "sketch = cv.imread('dataset/CUHK_test_sketch_v2/f-039-01-sz1.jpg', 0)\n",
        "sketch = resize(sketch, sketch_dim)\n",
        "#sketch = sketch / 255.\n",
        "sketch = sketch.reshape(1,m,n,1)"
      ],
      "execution_count": 0,
      "outputs": []
    },
    {
      "cell_type": "code",
      "metadata": {
        "id": "Qwt_umMtxsv8",
        "colab_type": "code",
        "colab": {}
      },
      "source": [
        "result, _ = model.predict(sketch)\n",
        "imshow(result[0])"
      ],
      "execution_count": 0,
      "outputs": []
    },
    {
      "cell_type": "code",
      "metadata": {
        "id": "o17NoX0qxswU",
        "colab_type": "code",
        "colab": {}
      },
      "source": [
        "fig = plt.figure()\n",
        "a = fig.add_subplot(1,2,1)\n",
        "imgplot = plt.imshow(sketch[0].reshape(m,n), cmap='gray')\n",
        "a.set_title('Sketch')\n",
        "plt.axis(\"off\")\n",
        "a = fig.add_subplot(1,2,2)\n",
        "imgplot = plt.imshow(result[0])\n",
        "a.set_title('Prediction')\n",
        "plt.axis(\"off\")\n",
        "plt.show()"
      ],
      "execution_count": 0,
      "outputs": []
    },
    {
      "cell_type": "markdown",
      "metadata": {
        "id": "tGxxANpxxswb",
        "colab_type": "text"
      },
      "source": [
        "### Prediction on FERET"
      ]
    },
    {
      "cell_type": "code",
      "metadata": {
        "id": "aFSuqur_xswh",
        "colab_type": "code",
        "colab": {}
      },
      "source": [
        "sketch = cv.imread('dataset/FERET_sketch/00023.jpg', 0)\n",
        "sketch = resize(sketch, sketch_dim)\n",
        "#sketch = sketch / 255.\n",
        "sketch = sketch.reshape(1,m,n,1)"
      ],
      "execution_count": 0,
      "outputs": []
    },
    {
      "cell_type": "code",
      "metadata": {
        "id": "BlOyLDzRxswx",
        "colab_type": "code",
        "colab": {}
      },
      "source": [
        "result, _ = model.predict(sketch)\n",
        "imshow(result[0])"
      ],
      "execution_count": 0,
      "outputs": []
    },
    {
      "cell_type": "code",
      "metadata": {
        "id": "1x4rQ7kLxsxI",
        "colab_type": "code",
        "colab": {}
      },
      "source": [
        "fig = plt.figure()\n",
        "a = fig.add_subplot(1,2,1)\n",
        "imgplot = plt.imshow(sketch[0].reshape(m,n), cmap='gray')\n",
        "a.set_title('Sketch')\n",
        "plt.axis(\"off\")\n",
        "a = fig.add_subplot(1,2,2)\n",
        "imgplot = plt.imshow(result[0])\n",
        "a.set_title('Prediction')\n",
        "plt.axis(\"off\")\n",
        "plt.show()"
      ],
      "execution_count": 0,
      "outputs": []
    },
    {
      "cell_type": "markdown",
      "metadata": {
        "id": "hbbb9d70xsxO",
        "colab_type": "text"
      },
      "source": [
        "### Prediction on Customised Data"
      ]
    },
    {
      "cell_type": "code",
      "metadata": {
        "id": "fGpkoA1ZxsxP",
        "colab_type": "code",
        "colab": {}
      },
      "source": [
        "sketch = cv.imread('dataset/customised_test_sketch/wang_wei_6.1.jpg', 0)\n",
        "sketch = resize(sketch, sketch_dim)\n",
        "#sketch = sketch / 255.\n",
        "sketch = sketch.reshape(1,m,n,1)"
      ],
      "execution_count": 0,
      "outputs": []
    },
    {
      "cell_type": "code",
      "metadata": {
        "id": "H_-UnihMxsxR",
        "colab_type": "code",
        "colab": {}
      },
      "source": [
        "result, _ = model.predict(sketch)\n",
        "imshow(result[0])"
      ],
      "execution_count": 0,
      "outputs": []
    },
    {
      "cell_type": "code",
      "metadata": {
        "scrolled": true,
        "id": "_9HZ79lBxsxZ",
        "colab_type": "code",
        "colab": {}
      },
      "source": [
        "fig = plt.figure()\n",
        "a = fig.add_subplot(1,2,1)\n",
        "imgplot = plt.imshow(sketch[0].reshape(m,n), cmap='gray')\n",
        "a.set_title('Sketch')\n",
        "plt.axis(\"off\")\n",
        "a = fig.add_subplot(1,2,2)\n",
        "imgplot = plt.imshow(result[0])\n",
        "a.set_title('Prediction')\n",
        "plt.axis(\"off\")\n",
        "plt.show()"
      ],
      "execution_count": 0,
      "outputs": []
    }
  ]
}